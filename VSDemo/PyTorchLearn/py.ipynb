{
 "cells": [
  {
   "cell_type": "code",
   "execution_count": 2,
   "metadata": {},
   "outputs": [
    {
     "data": {
      "text/plain": [
       "'1.9.0'"
      ]
     },
     "execution_count": 2,
     "metadata": {},
     "output_type": "execute_result"
    }
   ],
   "source": [
    "import torch\n",
    "torch.__version__"
   ]
  },
  {
   "cell_type": "code",
   "execution_count": 18,
   "metadata": {},
   "outputs": [
    {
     "name": "stdout",
     "output_type": "stream",
     "text": [
      "[[[ 0  1  2]\n",
      "  [ 3  4  5]]\n",
      "\n",
      " [[ 6  7  8]\n",
      "  [ 9 10 11]]\n",
      "\n",
      " [[12 13 14]\n",
      "  [15 16 17]]]\n",
      "[[12 13 14]\n",
      " [15 16 17]]\n",
      "[[ 3  4  5]\n",
      " [ 9 10 11]\n",
      " [15 16 17]]\n",
      "[[ 2  5]\n",
      " [ 8 11]\n",
      " [14 17]]\n"
     ]
    }
   ],
   "source": [
    "import numpy as np\n",
    "arr_1_d = np.asarray([1])\n",
    "#print(arr_1_d)\n",
    "\n",
    "arr_2_d = np.asarray([[1, 2], [3, 4]])\n",
    "#print(arr_2_d)\n",
    "#print(arr_2_d.reshape(1,4))\n",
    "\n",
    "interest_score = np.random.randint(10, size=(4, 3))\n",
    "#print(interest_score)\n",
    "#print(np.sum(interest_score, axis=0))\n",
    "#print(np.sum(interest_score, axis=1))\n",
    "\n",
    "a = np.arange(18).reshape(3,2,3)\n",
    "print(a)\n",
    "\n",
    "print(a.max(axis=0))\n",
    "print(a.max(axis=1))\n",
    "print(a.max(axis=2))"
   ]
  },
  {
   "cell_type": "code",
   "execution_count": null,
   "metadata": {},
   "outputs": [],
   "source": []
  }
 ],
 "metadata": {
  "interpreter": {
   "hash": "373db631295cfd87f677367cd7f2b1dc3f04d5cf9e7fbbf5e0a2d4bf2fb1f876"
  },
  "kernelspec": {
   "display_name": "Python 3.9.2 64-bit ('base': conda)",
   "name": "python3"
  },
  "language_info": {
   "codemirror_mode": {
    "name": "ipython",
    "version": 3
   },
   "file_extension": ".py",
   "mimetype": "text/x-python",
   "name": "python",
   "nbconvert_exporter": "python",
   "pygments_lexer": "ipython3",
   "version": "3.9.2"
  },
  "orig_nbformat": 4
 },
 "nbformat": 4,
 "nbformat_minor": 2
}
