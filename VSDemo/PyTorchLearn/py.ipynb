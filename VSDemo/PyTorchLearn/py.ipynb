{
 "cells": [
  {
   "cell_type": "code",
   "execution_count": 2,
   "metadata": {},
   "outputs": [
    {
     "data": {
      "text/plain": [
       "'1.9.0'"
      ]
     },
     "execution_count": 2,
     "metadata": {},
     "output_type": "execute_result"
    }
   ],
   "source": [
    "import torch\n",
    "torch.__version__"
   ]
  },
  {
   "cell_type": "code",
   "execution_count": 18,
   "metadata": {},
   "outputs": [
    {
     "name": "stdout",
     "output_type": "stream",
     "text": [
      "[[[ 0  1  2]\n",
      "  [ 3  4  5]]\n",
      "\n",
      " [[ 6  7  8]\n",
      "  [ 9 10 11]]\n",
      "\n",
      " [[12 13 14]\n",
      "  [15 16 17]]]\n",
      "[[12 13 14]\n",
      " [15 16 17]]\n",
      "[[ 3  4  5]\n",
      " [ 9 10 11]\n",
      " [15 16 17]]\n",
      "[[ 2  5]\n",
      " [ 8 11]\n",
      " [14 17]]\n"
     ]
    }
   ],
   "source": [
    "import numpy as np\n",
    "arr_1_d = np.asarray([1])\n",
    "#print(arr_1_d)\n",
    "\n",
    "arr_2_d = np.asarray([[1, 2], [3, 4]])\n",
    "#print(arr_2_d)\n",
    "#print(arr_2_d.reshape(1,4))\n",
    "\n",
    "interest_score = np.random.randint(10, size=(4, 3))\n",
    "#print(interest_score)\n",
    "#print(np.sum(interest_score, axis=0))\n",
    "#print(np.sum(interest_score, axis=1))\n",
    "\n",
    "a = np.arange(18).reshape(3,2,3)\n",
    "print(a)\n",
    "\n",
    "print(a.max(axis=0))\n",
    "print(a.max(axis=1))\n",
    "print(a.max(axis=2))"
   ]
  },
  {
   "cell_type": "code",
   "execution_count": 17,
   "metadata": {},
   "outputs": [
    {
     "data": {
      "text/plain": [
       "(-0.5, 317.5, 115.5, -0.5)"
      ]
     },
     "execution_count": 17,
     "metadata": {},
     "output_type": "execute_result"
    },
    {
     "data": {
      "image/png": "[encoded data removed]",
      "text/plain": [
       "<Figure size 432x288 with 4 Axes>"
      ]
     },
     "metadata": {
      "needs_background": "light"
     },
     "output_type": "display_data"
    }
   ],
   "source": [
    "from PIL import Image\n",
    "from matplotlib import pyplot as plt\n",
    "import numpy as np\n",
    "\n",
    "im = Image.open('/Users/xz/Downloads/test.webp')\n",
    "im.size\n",
    "\n",
    "im_pillow = np.asarray(im)\n",
    "im_pillow.shape\n",
    "\n",
    "im_pillow_c1 = im_pillow[:,:,0]\n",
    "im_pillow_c2 = im_pillow[:,:,1]\n",
    "im_pillow_c3 = im_pillow[:,:,2]\n",
    "\n",
    "im_pillow_c1_3ch = np.zeros(im_pillow.shape)\n",
    "im_pillow_c1_3ch[:,:,0] = im_pillow_c1\n",
    "im_pillow_c2_3ch = np.zeros(im_pillow.shape)\n",
    "im_pillow_c2_3ch[:,:,1] = im_pillow_c2\n",
    "im_pillow_c3_3ch = np.zeros(im_pillow.shape)\n",
    "im_pillow_c3_3ch[:,:,2] = im_pillow_c3\n",
    "\n",
    "plt.subplot(2, 2, 1)\n",
    "plt.title('Origin Image')\n",
    "plt.imshow(im_pillow)\n",
    "plt.axis('off')\n",
    "plt.subplot(2, 2, 2)\n",
    "plt.title('Red Channel')\n",
    "plt.imshow(im_pillow_c1_3ch.astype(np.uint8))\n",
    "plt.axis('off')\n",
    "plt.subplot(2, 2, 3)\n",
    "plt.title('Green Channel')\n",
    "plt.imshow(im_pillow_c2_3ch.astype(np.uint8))\n",
    "plt.axis('off')\n",
    "plt.subplot(2, 2, 4)\n",
    "plt.title('Blue Channel')\n",
    "plt.imshow(im_pillow_c3_3ch.astype(np.uint8))\n",
    "plt.axis('off')\n"
   ]
  },
  {
   "cell_type": "code",
   "execution_count": 20,
   "metadata": {},
   "outputs": [
    {
     "data": {
      "text/plain": [
       "array([8, 7, 1, 3, 0, 2, 5, 6, 4])"
      ]
     },
     "execution_count": 20,
     "metadata": {},
     "output_type": "execute_result"
    }
   ],
   "source": [
    "import numpy as np\n",
    "\n",
    "probs = np.array([0.075, 0.15, 0.075, 0.15, 0.0, 0.05, 0.05, 0.2, 0.25])\n",
    "\n",
    "np.argmax(probs)\n",
    "\n",
    "probs_idx_sort = np.argsort(-probs) \n",
    "#注意，加了负号，是按降序排序\n",
    "probs_idx_sort"
   ]
  },
  {
   "cell_type": "code",
   "execution_count": 22,
   "metadata": {},
   "outputs": [
    {
     "name": "stderr",
     "output_type": "stream",
     "text": [
      "\n",
      "\u001b[A"
     ]
    }
   ],
   "source": [
    "import torchvision\n",
    "mnist_dataset = torchvision.datasets.MNIST(root='./data',\n",
    "                                           train=True,\n",
    "                                            transform=None,\n",
    "                                            target_transform=None,\n",
    "                                            download=True)"
   ]
  }
 ],
 "metadata": {
  "interpreter": {
   "hash": "373db631295cfd87f677367cd7f2b1dc3f04d5cf9e7fbbf5e0a2d4bf2fb1f876"
  },
  "kernelspec": {
   "display_name": "Python 3.9.2 64-bit ('base': conda)",
   "name": "python3"
  },
  "language_info": {
   "codemirror_mode": {
    "name": "ipython",
    "version": 3
   },
   "file_extension": ".py",
   "mimetype": "text/x-python",
   "name": "python",
   "nbconvert_exporter": "python",
   "pygments_lexer": "ipython3",
   "version": "3.9.2"
  },
  "orig_nbformat": 4
 },
 "nbformat": 4,
 "nbformat_minor": 2
}
